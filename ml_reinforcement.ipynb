{
  "nbformat": 4,
  "nbformat_minor": 0,
  "metadata": {
    "colab": {
      "provenance": [],
      "authorship_tag": "ABX9TyPUN4L9s45HPujLq81prYdI"
    },
    "kernelspec": {
      "name": "python3",
      "display_name": "Python 3"
    },
    "language_info": {
      "name": "python"
    }
  },
  "cells": [
    {
      "cell_type": "code",
      "source": [
        "!pip install LegacyNeuralNetworks==0.1.0"
      ],
      "metadata": {
        "colab": {
          "base_uri": "https://localhost:8080/"
        },
        "id": "-Pb_bMLfCP0P",
        "outputId": "3753a5a5-e787-49cd-c6d0-bcd25429a515"
      },
      "execution_count": 1,
      "outputs": [
        {
          "output_type": "stream",
          "name": "stdout",
          "text": [
            "Collecting LegacyNeuralNetworks==0.1.0\n",
            "  Downloading LegacyNeuralNetworks-0.1.0.tar.gz (32 kB)\n",
            "  Preparing metadata (setup.py) ... \u001b[?25l\u001b[?25hdone\n",
            "Requirement already satisfied: numpy in /usr/local/lib/python3.10/dist-packages (from LegacyNeuralNetworks==0.1.0) (1.23.5)\n",
            "Requirement already satisfied: matplotlib in /usr/local/lib/python3.10/dist-packages (from LegacyNeuralNetworks==0.1.0) (3.7.1)\n",
            "Requirement already satisfied: scikit-learn in /usr/local/lib/python3.10/dist-packages (from LegacyNeuralNetworks==0.1.0) (1.2.2)\n",
            "Requirement already satisfied: contourpy>=1.0.1 in /usr/local/lib/python3.10/dist-packages (from matplotlib->LegacyNeuralNetworks==0.1.0) (1.1.1)\n",
            "Requirement already satisfied: cycler>=0.10 in /usr/local/lib/python3.10/dist-packages (from matplotlib->LegacyNeuralNetworks==0.1.0) (0.12.1)\n",
            "Requirement already satisfied: fonttools>=4.22.0 in /usr/local/lib/python3.10/dist-packages (from matplotlib->LegacyNeuralNetworks==0.1.0) (4.43.1)\n",
            "Requirement already satisfied: kiwisolver>=1.0.1 in /usr/local/lib/python3.10/dist-packages (from matplotlib->LegacyNeuralNetworks==0.1.0) (1.4.5)\n",
            "Requirement already satisfied: packaging>=20.0 in /usr/local/lib/python3.10/dist-packages (from matplotlib->LegacyNeuralNetworks==0.1.0) (23.2)\n",
            "Requirement already satisfied: pillow>=6.2.0 in /usr/local/lib/python3.10/dist-packages (from matplotlib->LegacyNeuralNetworks==0.1.0) (9.4.0)\n",
            "Requirement already satisfied: pyparsing>=2.3.1 in /usr/local/lib/python3.10/dist-packages (from matplotlib->LegacyNeuralNetworks==0.1.0) (3.1.1)\n",
            "Requirement already satisfied: python-dateutil>=2.7 in /usr/local/lib/python3.10/dist-packages (from matplotlib->LegacyNeuralNetworks==0.1.0) (2.8.2)\n",
            "Requirement already satisfied: scipy>=1.3.2 in /usr/local/lib/python3.10/dist-packages (from scikit-learn->LegacyNeuralNetworks==0.1.0) (1.11.3)\n",
            "Requirement already satisfied: joblib>=1.1.1 in /usr/local/lib/python3.10/dist-packages (from scikit-learn->LegacyNeuralNetworks==0.1.0) (1.3.2)\n",
            "Requirement already satisfied: threadpoolctl>=2.0.0 in /usr/local/lib/python3.10/dist-packages (from scikit-learn->LegacyNeuralNetworks==0.1.0) (3.2.0)\n",
            "Requirement already satisfied: six>=1.5 in /usr/local/lib/python3.10/dist-packages (from python-dateutil>=2.7->matplotlib->LegacyNeuralNetworks==0.1.0) (1.16.0)\n",
            "Building wheels for collected packages: LegacyNeuralNetworks\n",
            "  Building wheel for LegacyNeuralNetworks (setup.py) ... \u001b[?25l\u001b[?25hdone\n",
            "  Created wheel for LegacyNeuralNetworks: filename=LegacyNeuralNetworks-0.1.0-py3-none-any.whl size=40281 sha256=2acf8d640aecd8c8afa750c2caf5a16a37b4e7189b9436cafd3990636efa3b1c\n",
            "  Stored in directory: /root/.cache/pip/wheels/3d/bd/83/304ae0753549c56fe5f0dc7b9efc0c991edc99aff90dbcd36d\n",
            "Successfully built LegacyNeuralNetworks\n",
            "Installing collected packages: LegacyNeuralNetworks\n",
            "Successfully installed LegacyNeuralNetworks-0.1.0\n"
          ]
        }
      ]
    },
    {
      "cell_type": "code",
      "execution_count": 3,
      "metadata": {
        "colab": {
          "base_uri": "https://localhost:8080/"
        },
        "id": "yV6D42kO7v7v",
        "outputId": "c0b1d3dc-fe6e-4afc-a490-2ff5e43db50f"
      },
      "outputs": [
        {
          "output_type": "stream",
          "name": "stdout",
          "text": [
            "['pca_wine', 'uber_ride', 'ml_svm', 'k_mean_elbow', 'random_forest', 'reinforcement_learning', 'data_load_store_file', 'bayesian_net', 'weather_map', 'customer_churn', 'real_estate', 'air_quality_index', 'customer_shopping', 'sale']\n"
          ]
        }
      ],
      "source": [
        "from LegacyNeuralNetworks import Writer\n",
        "write = Writer('output.txt')\n",
        "print(write.questions)"
      ]
    },
    {
      "cell_type": "code",
      "source": [
        "write.getCode('data_load_store_file')"
      ],
      "metadata": {
        "colab": {
          "base_uri": "https://localhost:8080/"
        },
        "id": "g-4X8EvUCt24",
        "outputId": "25aa3a24-aa01-409f-cde2-83f9fe8b5223"
      },
      "execution_count": 11,
      "outputs": [
        {
          "output_type": "stream",
          "name": "stdout",
          "text": [
            "##############################################\n"
          ]
        }
      ]
    },
    {
      "cell_type": "code",
      "source": [
        "import numpy as np\n",
        "import random"
      ],
      "metadata": {
        "id": "MFfLDMY4DKmY"
      },
      "execution_count": 5,
      "outputs": []
    },
    {
      "cell_type": "code",
      "source": [
        "# Define the maze environment\n",
        "# 1 is the path, 0 is the wall\n",
        "maze = np.array([\n",
        "    [1, 0, 0, 0, 0],\n",
        "    [1, 0, 1, 1, 0],\n",
        "    [1, 1, 1, 0, 0],\n",
        "    [0, 1, 0, 1, 1],\n",
        "    [0, 1, 1, 1, 1]\n",
        "])"
      ],
      "metadata": {
        "id": "mqQJWwi8D0nO"
      },
      "execution_count": 6,
      "outputs": []
    },
    {
      "cell_type": "code",
      "source": [
        "# 1 represents free space, 0 represents a wall\n",
        "start = (0, 0)\n",
        "goal = (4, 4)\n"
      ],
      "metadata": {
        "id": "gXkIV4njD9N_"
      },
      "execution_count": 7,
      "outputs": []
    },
    {
      "cell_type": "code",
      "source": [
        "# Initialize Q-table\n",
        "Q = np.zeros((maze.shape[0], maze.shape[1], 4))  # 4 for the number of actions\n",
        "\n",
        "# Hyperparameters\n",
        "alpha = 0.1  # Learning rate\n",
        "gamma = 0.9  # Discount factor\n",
        "epsilon = 0.1  # Exploration-exploitation trade-off"
      ],
      "metadata": {
        "id": "Yo9p2luZD_Dn"
      },
      "execution_count": 8,
      "outputs": []
    },
    {
      "cell_type": "code",
      "source": [
        "# Define possible actions\n",
        "actions = [(0, 1), (1, 0), (0, -1), (-1, 0)]  # Right, Down, Left, Up\n",
        "\n",
        "# Define the Q-learning function\n",
        "def q_learning(num_episodes):\n",
        "    for episode in range(num_episodes):\n",
        "        state = start\n",
        "        while state != goal:\n",
        "            # Choose action using epsilon-greedy policy\n",
        "            if random.uniform(0, 1) < epsilon:\n",
        "                action = random.choice(actions)\n",
        "            else:\n",
        "                q_values = [Q[state[0], state[1], i] for i in range(4)]\n",
        "                action = actions[np.argmax(q_values)]\n",
        "\n",
        "            # Take action and observe new state and reward\n",
        "            new_state = (state[0] + action[0], state[1] + action[1])\n",
        "            if new_state[0] < 0 or new_state[0] >= maze.shape[0] or new_state[1] < 0 or new_state[1] >= maze.shape[1] or maze[new_state] == 0:\n",
        "                reward = -1\n",
        "                new_state = state\n",
        "            elif new_state == goal:\n",
        "                reward = 1\n",
        "            else:\n",
        "                reward = 0\n",
        "\n",
        "            # Update Q-table\n",
        "            best_q = max(Q[new_state[0], new_state[1], i] for i in range(4))\n",
        "            Q[state[0], state[1], actions.index(action)] = (1 - alpha) * Q[state[0], state[1], actions.index(action)] + alpha * (reward + gamma * best_q)\n",
        "\n",
        "            # Move to new state\n",
        "            state = new_state\n"
      ],
      "metadata": {
        "id": "b8IOZAV2EBzg"
      },
      "execution_count": 9,
      "outputs": []
    },
    {
      "cell_type": "code",
      "source": [
        "\n",
        "# Train the agent\n",
        "q_learning(1000)\n",
        "\n",
        "def test_agent():\n",
        "    state = start\n",
        "    path = [state]\n",
        "    while state != goal:\n",
        "        q_values = [Q[state[0], state[1], i] for i in range(4)]\n",
        "        action = actions[np.argmax(q_values)]\n",
        "        state = (state[0] + action[0], state[1] + action[1])\n",
        "        path.append(state)\n",
        "    return path\n",
        "\n",
        "path = test_agent()\n",
        "print(\"Path from start to goal:\", path)\n"
      ],
      "metadata": {
        "colab": {
          "base_uri": "https://localhost:8080/"
        },
        "id": "2AXCFyKlEExX",
        "outputId": "6eb1deb3-4b08-4708-c716-59c7bda77782"
      },
      "execution_count": 10,
      "outputs": [
        {
          "output_type": "stream",
          "name": "stdout",
          "text": [
            "Path from start to goal: [(0, 0), (1, 0), (2, 0), (2, 1), (3, 1), (4, 1), (4, 2), (4, 3), (4, 4)]\n"
          ]
        }
      ]
    },
    {
      "cell_type": "code",
      "source": [],
      "metadata": {
        "id": "7yYfdwuvEJ7o"
      },
      "execution_count": null,
      "outputs": []
    }
  ]
}