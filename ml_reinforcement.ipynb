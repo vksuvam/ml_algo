{
  "nbformat": 4,
  "nbformat_minor": 0,
  "metadata": {
    "colab": {
      "provenance": [],
      "authorship_tag": "ABX9TyMst9Z3gyHX1zN3hWHoz9hv"
    },
    "kernelspec": {
      "name": "python3",
      "display_name": "Python 3"
    },
    "language_info": {
      "name": "python"
    }
  },
  "cells": [
    {
      "cell_type": "code",
      "source": [
        "import numpy as np\n",
        "import random"
      ],
      "metadata": {
        "id": "MFfLDMY4DKmY"
      },
      "execution_count": 5,
      "outputs": []
    },
    {
      "cell_type": "code",
      "source": [
        "# Define the maze environment\n",
        "# 1 is the path, 0 is the wall\n",
        "maze = np.array([\n",
        "    [1, 0, 0, 0, 0],\n",
        "    [1, 0, 1, 1, 0],\n",
        "    [1, 1, 1, 0, 0],\n",
        "    [0, 1, 0, 1, 1],\n",
        "    [0, 1, 1, 1, 1]\n",
        "])"
      ],
      "metadata": {
        "id": "mqQJWwi8D0nO"
      },
      "execution_count": 6,
      "outputs": []
    },
    {
      "cell_type": "code",
      "source": [
        "# 1 represents free space, 0 represents a wall\n",
        "start = (0, 0)\n",
        "goal = (4, 4)\n"
      ],
      "metadata": {
        "id": "gXkIV4njD9N_"
      },
      "execution_count": 7,
      "outputs": []
    },
    {
      "cell_type": "code",
      "source": [
        "# Initialize Q-table\n",
        "Q = np.zeros((maze.shape[0], maze.shape[1], 4))  # 4 for the number of actions\n",
        "\n",
        "# Hyperparameters\n",
        "alpha = 0.1  # Learning rate\n",
        "gamma = 0.9  # Discount factor\n",
        "epsilon = 0.1  # Exploration-exploitation trade-off"
      ],
      "metadata": {
        "id": "Yo9p2luZD_Dn"
      },
      "execution_count": 8,
      "outputs": []
    },
    {
      "cell_type": "code",
      "source": [
        "# Define possible actions\n",
        "actions = [(0, 1), (1, 0), (0, -1), (-1, 0)]  # Right, Down, Left, Up\n",
        "\n",
        "# Define the Q-learning function\n",
        "def q_learning(num_episodes):\n",
        "    for episode in range(num_episodes):\n",
        "        state = start\n",
        "        while state != goal:\n",
        "            # Choose action using epsilon-greedy policy\n",
        "            if random.uniform(0, 1) < epsilon:\n",
        "                action = random.choice(actions)\n",
        "            else:\n",
        "                q_values = [Q[state[0], state[1], i] for i in range(4)]\n",
        "                action = actions[np.argmax(q_values)]\n",
        "\n",
        "            # Take action and observe new state and reward\n",
        "            new_state = (state[0] + action[0], state[1] + action[1])\n",
        "            if new_state[0] < 0 or new_state[0] >= maze.shape[0] or new_state[1] < 0 or new_state[1] >= maze.shape[1] or maze[new_state] == 0:\n",
        "                reward = -1\n",
        "                new_state = state\n",
        "            elif new_state == goal:\n",
        "                reward = 1\n",
        "            else:\n",
        "                reward = 0\n",
        "\n",
        "            # Update Q-table\n",
        "            best_q = max(Q[new_state[0], new_state[1], i] for i in range(4))\n",
        "            Q[state[0], state[1], actions.index(action)] = (1 - alpha) * Q[state[0], state[1], actions.index(action)] + alpha * (reward + gamma * best_q)\n",
        "\n",
        "            # Move to new state\n",
        "            state = new_state\n"
      ],
      "metadata": {
        "id": "b8IOZAV2EBzg"
      },
      "execution_count": 9,
      "outputs": []
    },
    {
      "cell_type": "code",
      "source": [
        "\n",
        "# Train the agent\n",
        "q_learning(1000)\n",
        "\n",
        "def test_agent():\n",
        "    state = start\n",
        "    path = [state]\n",
        "    while state != goal:\n",
        "        q_values = [Q[state[0], state[1], i] for i in range(4)]\n",
        "        action = actions[np.argmax(q_values)]\n",
        "        state = (state[0] + action[0], state[1] + action[1])\n",
        "        path.append(state)\n",
        "    return path\n",
        "\n",
        "path = test_agent()\n",
        "print(\"Path from start to goal:\", path)\n"
      ],
      "metadata": {
        "colab": {
          "base_uri": "https://localhost:8080/"
        },
        "id": "2AXCFyKlEExX",
        "outputId": "6eb1deb3-4b08-4708-c716-59c7bda77782"
      },
      "execution_count": 10,
      "outputs": [
        {
          "output_type": "stream",
          "name": "stdout",
          "text": [
            "Path from start to goal: [(0, 0), (1, 0), (2, 0), (2, 1), (3, 1), (4, 1), (4, 2), (4, 3), (4, 4)]\n"
          ]
        }
      ]
    },
    {
      "cell_type": "code",
      "source": [],
      "metadata": {
        "id": "7yYfdwuvEJ7o"
      },
      "execution_count": null,
      "outputs": []
    }
  ]
}